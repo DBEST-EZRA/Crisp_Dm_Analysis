{
  "nbformat": 4,
  "nbformat_minor": 0,
  "metadata": {
    "colab": {
      "provenance": []
    },
    "kernelspec": {
      "name": "python3",
      "display_name": "Python 3"
    },
    "language_info": {
      "name": "python"
    }
  },
  "cells": [
    {
      "cell_type": "code",
      "source": [
        "!pip install py2neo"
      ],
      "metadata": {
        "colab": {
          "base_uri": "https://localhost:8080/"
        },
        "id": "LjmCYtYsSUfr",
        "outputId": "4e0047cf-dd6c-4a30-b035-9527b680f3ab"
      },
      "execution_count": 1,
      "outputs": [
        {
          "output_type": "stream",
          "name": "stdout",
          "text": [
            "Collecting py2neo\n",
            "  Downloading py2neo-2021.2.4-py2.py3-none-any.whl.metadata (9.9 kB)\n",
            "Requirement already satisfied: certifi in /usr/local/lib/python3.10/dist-packages (from py2neo) (2024.8.30)\n",
            "Collecting interchange~=2021.0.4 (from py2neo)\n",
            "  Downloading interchange-2021.0.4-py2.py3-none-any.whl.metadata (1.9 kB)\n",
            "Collecting monotonic (from py2neo)\n",
            "  Downloading monotonic-1.6-py2.py3-none-any.whl.metadata (1.5 kB)\n",
            "Requirement already satisfied: packaging in /usr/local/lib/python3.10/dist-packages (from py2neo) (24.2)\n",
            "Collecting pansi>=2020.7.3 (from py2neo)\n",
            "  Downloading pansi-2024.11.0-py2.py3-none-any.whl.metadata (3.1 kB)\n",
            "Requirement already satisfied: pygments>=2.0.0 in /usr/local/lib/python3.10/dist-packages (from py2neo) (2.18.0)\n",
            "Requirement already satisfied: six>=1.15.0 in /usr/local/lib/python3.10/dist-packages (from py2neo) (1.16.0)\n",
            "Requirement already satisfied: urllib3 in /usr/local/lib/python3.10/dist-packages (from py2neo) (2.2.3)\n",
            "Requirement already satisfied: pytz in /usr/local/lib/python3.10/dist-packages (from interchange~=2021.0.4->py2neo) (2024.2)\n",
            "Requirement already satisfied: pillow in /usr/local/lib/python3.10/dist-packages (from pansi>=2020.7.3->py2neo) (11.0.0)\n",
            "Downloading py2neo-2021.2.4-py2.py3-none-any.whl (177 kB)\n",
            "\u001b[2K   \u001b[90m━━━━━━━━━━━━━━━━━━━━━━━━━━━━━━━━━━━━━━━━\u001b[0m \u001b[32m177.2/177.2 kB\u001b[0m \u001b[31m7.1 MB/s\u001b[0m eta \u001b[36m0:00:00\u001b[0m\n",
            "\u001b[?25hDownloading interchange-2021.0.4-py2.py3-none-any.whl (28 kB)\n",
            "Downloading pansi-2024.11.0-py2.py3-none-any.whl (26 kB)\n",
            "Downloading monotonic-1.6-py2.py3-none-any.whl (8.2 kB)\n",
            "Installing collected packages: monotonic, pansi, interchange, py2neo\n",
            "Successfully installed interchange-2021.0.4 monotonic-1.6 pansi-2024.11.0 py2neo-2021.2.4\n"
          ]
        }
      ]
    },
    {
      "cell_type": "code",
      "execution_count": 6,
      "metadata": {
        "colab": {
          "base_uri": "https://localhost:8080/"
        },
        "id": "Z1Q2HbQSSSsu",
        "outputId": "7f716ca3-03b0-4bfa-e540-8b680b19efd5"
      },
      "outputs": [
        {
          "output_type": "stream",
          "name": "stdout",
          "text": [
            "Performing CRISP-DM analysis...\n",
            "Business Understanding: Analyzing a Movies dataset for collaboration patterns.\n",
            "Data Understanding: Exploring the schema and relationships.\n",
            "Schema visualization complete.\n",
            "Data Preparation: Verifying data in the graph.\n",
            "Graph contains 10 nodes and 10 relationships.\n",
            "Modeling: Detecting communities using Cypher.\n",
            "Modeling Results:\n",
            "Evaluation: Reviewed detected communities for meaningful insights.\n",
            "Deployment: Discussing potential AI-driven applications.\n"
          ]
        }
      ],
      "source": [
        "from py2neo import Graph\n",
        "\n",
        "# Connect to Neo4j database\n",
        "NEO4J_URI = \"neo4j+s://20420c72.databases.neo4j.io\"\n",
        "NEO4J_USERNAME = \"neo4j\"\n",
        "NEO4J_PASSWORD = \"cyBNYP2F-nbLQOIukffU5lvU34C9pHcxaEPII1PTt-w\"\n",
        "\n",
        "graph_db = Graph(NEO4J_URI, auth=(NEO4J_USERNAME, NEO4J_PASSWORD))\n",
        "\n",
        "# Function to perform CRISP-DM steps\n",
        "def crisp_dm_analysis():\n",
        "    # Step 1: Business Understanding\n",
        "    print(\"Business Understanding: Analyzing a Movies dataset for collaboration patterns.\")\n",
        "\n",
        "    # Step 2: Data Understanding\n",
        "    print(\"Data Understanding: Exploring the schema and relationships.\")\n",
        "    schema = graph_db.run(\"CALL db.schema.visualization()\").data()\n",
        "    print(\"Schema visualization complete.\")\n",
        "\n",
        "    # Step 3: Data Preparation\n",
        "    print(\"Data Preparation: Verifying data in the graph.\")\n",
        "    node_count = graph_db.run(\"MATCH (n) RETURN COUNT(n) AS count\").data()[0][\"count\"]\n",
        "    relationship_count = graph_db.run(\"MATCH ()-[r]->() RETURN COUNT(r) AS count\").data()[0][\"count\"]\n",
        "    print(f\"Graph contains {node_count} nodes and {relationship_count} relationships.\")\n",
        "\n",
        "    # Step 4: Modeling - Cypher-Based Community Detection\n",
        "    print(\"Modeling: Detecting communities using Cypher.\")\n",
        "    community_query = \"\"\"\n",
        "    MATCH (p:Person)-[:ACTED_IN]->(m:Movie)<-[:ACTED_IN]-(co:Person)\n",
        "    WITH p, collect(DISTINCT co) AS community\n",
        "    RETURN p.name AS person, size(community) AS communitySize, community\n",
        "    ORDER BY communitySize DESC\n",
        "    \"\"\"\n",
        "    result = graph_db.run(community_query).data()\n",
        "\n",
        "    # Print results\n",
        "    print(\"Modeling Results:\")\n",
        "    for record in result:\n",
        "        print(f\"Person: {record['person']}, Community Size: {record['communitySize']}, Community Members: {record['community']}\")\n",
        "\n",
        "    # Step 5: Evaluation\n",
        "    print(\"Evaluation: Reviewed detected communities for meaningful insights.\")\n",
        "\n",
        "    # Step 6: Deployment\n",
        "    print(\"Deployment: Discussing potential AI-driven applications.\")\n",
        "\n",
        "if __name__ == \"__main__\":\n",
        "    print(\"Performing CRISP-DM analysis...\")\n",
        "    crisp_dm_analysis()\n"
      ]
    }
  ]
}